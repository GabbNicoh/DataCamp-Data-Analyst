{
 "cells": [
  {
   "cell_type": "markdown",
   "id": "9ce108c3",
   "metadata": {},
   "source": [
    "# Data Manipulation with Pandas"
   ]
  },
  {
   "cell_type": "markdown",
   "id": "ed1d148e",
   "metadata": {},
   "source": [
    "Prerequisites"
   ]
  },
  {
   "cell_type": "code",
   "execution_count": 74,
   "id": "197fdbc8",
   "metadata": {},
   "outputs": [],
   "source": [
    "import pandas as pd"
   ]
  },
  {
   "cell_type": "markdown",
   "id": "a620c8df",
   "metadata": {},
   "source": [
    "## Dataframes"
   ]
  },
  {
   "cell_type": "code",
   "execution_count": null,
   "id": "13e602a7",
   "metadata": {},
   "outputs": [],
   "source": []
  },
  {
   "cell_type": "markdown",
   "id": "a5c9c182",
   "metadata": {},
   "source": [
    "## Aggregating Dataframes"
   ]
  },
  {
   "cell_type": "code",
   "execution_count": null,
   "id": "b8f5f6ad",
   "metadata": {},
   "outputs": [],
   "source": []
  },
  {
   "cell_type": "markdown",
   "id": "cf2afbea",
   "metadata": {},
   "source": [
    "## Slicing and Indexing Dataframes"
   ]
  },
  {
   "cell_type": "code",
   "execution_count": null,
   "id": "e6b564e1",
   "metadata": {},
   "outputs": [],
   "source": []
  },
  {
   "cell_type": "markdown",
   "id": "8e416086",
   "metadata": {},
   "source": [
    "## Creating and Visualizing Dataframes"
   ]
  },
  {
   "cell_type": "code",
   "execution_count": null,
   "id": "2d831256",
   "metadata": {},
   "outputs": [],
   "source": []
  },
  {
   "cell_type": "markdown",
   "id": "4309339e",
   "metadata": {},
   "source": [
    "# Joining Data with Pandas"
   ]
  },
  {
   "cell_type": "markdown",
   "id": "a6ec757a",
   "metadata": {},
   "source": [
    "## Data Merging"
   ]
  },
  {
   "cell_type": "code",
   "execution_count": null,
   "id": "dca84bc7",
   "metadata": {},
   "outputs": [],
   "source": []
  },
  {
   "cell_type": "markdown",
   "id": "d0fb6426",
   "metadata": {},
   "source": [
    "## Merging with Different Types"
   ]
  },
  {
   "cell_type": "code",
   "execution_count": null,
   "id": "ff58355c",
   "metadata": {},
   "outputs": [],
   "source": []
  },
  {
   "cell_type": "markdown",
   "id": "24e9d3ce",
   "metadata": {},
   "source": [
    "## Advanced Merging and Concatinating"
   ]
  },
  {
   "cell_type": "code",
   "execution_count": null,
   "id": "90acdadd",
   "metadata": {},
   "outputs": [],
   "source": []
  },
  {
   "cell_type": "markdown",
   "id": "f110058a",
   "metadata": {},
   "source": [
    "## Merging Ordered and Time-Series Data"
   ]
  },
  {
   "cell_type": "code",
   "execution_count": null,
   "id": "9f451786",
   "metadata": {},
   "outputs": [],
   "source": []
  }
 ],
 "metadata": {
  "kernelspec": {
   "display_name": "Python 3",
   "language": "python",
   "name": "python3"
  },
  "language_info": {
   "codemirror_mode": {
    "name": "ipython",
    "version": 3
   },
   "file_extension": ".py",
   "mimetype": "text/x-python",
   "name": "python",
   "nbconvert_exporter": "python",
   "pygments_lexer": "ipython3",
   "version": "3.8.8"
  }
 },
 "nbformat": 4,
 "nbformat_minor": 5
}

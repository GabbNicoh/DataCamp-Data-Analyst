{
 "cells": [
  {
   "cell_type": "code",
   "execution_count": 9,
   "metadata": {},
   "outputs": [],
   "source": [
    "import pandas as pd\n",
    "import matplotlib.pyplot as plt\n",
    "import numpy as np"
   ]
  },
  {
   "cell_type": "code",
   "execution_count": 4,
   "metadata": {},
   "outputs": [],
   "source": [
    "data = pd.read_csv('organizations-1000.csv')\n",
    "data1 = pd.read_csv('organizations-1000.csv')"
   ]
  },
  {
   "cell_type": "markdown",
   "metadata": {},
   "source": [
    "## DataFrames"
   ]
  },
  {
   "cell_type": "markdown",
   "metadata": {},
   "source": [
    "These methods are ways to get information from a DataFrame before analysis."
   ]
  },
  {
   "cell_type": "code",
   "execution_count": 12,
   "metadata": {},
   "outputs": [
    {
     "name": "stdout",
     "output_type": "stream",
     "text": [
      "<class 'pandas.core.frame.DataFrame'>\n",
      "RangeIndex: 1000 entries, 0 to 999\n",
      "Data columns (total 9 columns):\n",
      " #   Column               Non-Null Count  Dtype \n",
      "---  ------               --------------  ----- \n",
      " 0   Index                1000 non-null   int64 \n",
      " 1   Organization Id      1000 non-null   object\n",
      " 2   Name                 1000 non-null   object\n",
      " 3   Website              1000 non-null   object\n",
      " 4   Country              1000 non-null   object\n",
      " 5   Description          1000 non-null   object\n",
      " 6   Founded              1000 non-null   int64 \n",
      " 7   Industry             1000 non-null   object\n",
      " 8   Number of employees  1000 non-null   int64 \n",
      "dtypes: int64(3), object(6)\n",
      "memory usage: 70.4+ KB\n"
     ]
    },
    {
     "data": {
      "text/html": [
       "<div>\n",
       "<style scoped>\n",
       "    .dataframe tbody tr th:only-of-type {\n",
       "        vertical-align: middle;\n",
       "    }\n",
       "\n",
       "    .dataframe tbody tr th {\n",
       "        vertical-align: top;\n",
       "    }\n",
       "\n",
       "    .dataframe thead th {\n",
       "        text-align: right;\n",
       "    }\n",
       "</style>\n",
       "<table border=\"1\" class=\"dataframe\">\n",
       "  <thead>\n",
       "    <tr style=\"text-align: right;\">\n",
       "      <th></th>\n",
       "      <th>Index</th>\n",
       "      <th>Founded</th>\n",
       "      <th>Number of employees</th>\n",
       "    </tr>\n",
       "  </thead>\n",
       "  <tbody>\n",
       "    <tr>\n",
       "      <th>count</th>\n",
       "      <td>1000.000000</td>\n",
       "      <td>1000.000000</td>\n",
       "      <td>1000.000000</td>\n",
       "    </tr>\n",
       "    <tr>\n",
       "      <th>mean</th>\n",
       "      <td>500.500000</td>\n",
       "      <td>1995.852000</td>\n",
       "      <td>4964.996000</td>\n",
       "    </tr>\n",
       "    <tr>\n",
       "      <th>std</th>\n",
       "      <td>288.819436</td>\n",
       "      <td>15.096026</td>\n",
       "      <td>2812.789035</td>\n",
       "    </tr>\n",
       "    <tr>\n",
       "      <th>min</th>\n",
       "      <td>1.000000</td>\n",
       "      <td>1970.000000</td>\n",
       "      <td>1.000000</td>\n",
       "    </tr>\n",
       "    <tr>\n",
       "      <th>25%</th>\n",
       "      <td>250.750000</td>\n",
       "      <td>1983.000000</td>\n",
       "      <td>2612.000000</td>\n",
       "    </tr>\n",
       "    <tr>\n",
       "      <th>50%</th>\n",
       "      <td>500.500000</td>\n",
       "      <td>1996.000000</td>\n",
       "      <td>4941.000000</td>\n",
       "    </tr>\n",
       "    <tr>\n",
       "      <th>75%</th>\n",
       "      <td>750.250000</td>\n",
       "      <td>2009.000000</td>\n",
       "      <td>7348.250000</td>\n",
       "    </tr>\n",
       "    <tr>\n",
       "      <th>max</th>\n",
       "      <td>1000.000000</td>\n",
       "      <td>2022.000000</td>\n",
       "      <td>9952.000000</td>\n",
       "    </tr>\n",
       "  </tbody>\n",
       "</table>\n",
       "</div>"
      ],
      "text/plain": [
       "             Index      Founded  Number of employees\n",
       "count  1000.000000  1000.000000          1000.000000\n",
       "mean    500.500000  1995.852000          4964.996000\n",
       "std     288.819436    15.096026          2812.789035\n",
       "min       1.000000  1970.000000             1.000000\n",
       "25%     250.750000  1983.000000          2612.000000\n",
       "50%     500.500000  1996.000000          4941.000000\n",
       "75%     750.250000  2009.000000          7348.250000\n",
       "max    1000.000000  2022.000000          9952.000000"
      ]
     },
     "execution_count": 12,
     "metadata": {},
     "output_type": "execute_result"
    }
   ],
   "source": [
    "data.head()\n",
    "data.info()\n",
    "data.describe()"
   ]
  },
  {
   "cell_type": "markdown",
   "metadata": {},
   "source": [
    "These on the other hand are attributes which does the same as before but more indepth."
   ]
  },
  {
   "cell_type": "code",
   "execution_count": null,
   "metadata": {},
   "outputs": [],
   "source": [
    "data.shape\n",
    "data.values\n",
    "data.columns\n",
    "data.index"
   ]
  },
  {
   "cell_type": "code",
   "execution_count": null,
   "metadata": {},
   "outputs": [],
   "source": [
    "# SORTING\n",
    "data.sort_values('breed', ascending=False)\n",
    "\n",
    "# SUBSETTING COLUMNS\n",
    "data[['breed', 'weight']]\n",
    "\n",
    "# SUBSETTING ROWS\n",
    "data[data['breed' == 'chuhuahua']]\n",
    "data[data['breed'].isin(['German Shepherd', 'Golden Retriever'])]\n",
    "\n",
    "data['month'] = data['date'].dt.month # gets the year/month/day of a date\n",
    "\n",
    "# AGGREGATING\n",
    "data[['breed', 'weight']].agg([np.mean, np.median])\n",
    "data[['breed']].agg({\"Weight\": \"Mean\"})\n",
    "\n",
    "# COUNTING\n",
    "data.drop_duplicates(subset='name')\n",
    "data.value_counts(sort=True)\n",
    "data.value_counts(normalize=True)\n",
    "data.groupby(['color', 'breed'])['weight'].count()\n",
    "\n",
    "# GROUPING\n",
    "data.groupby('color')['weight'].mean()\n",
    "data.groupby(['color', 'breed'])['weight'].mean()\n",
    "\n",
    "# INDEX\n",
    "data.set_index('city')\n",
    "data.drop_index()\n",
    "data.drop_index(drop=True)\n",
    "\n",
    "# SLICING AND INDEXING\n",
    "# data.loc[ROWS:ROWS, COLUMNS:COLUMNS]\n",
    "data.loc['labrador':'poodle']\n",
    "data.loc['labrador':'poodle', 'name': 'height']\n",
    "\n",
    "data.loc['2020-05-23':'2021-01-30']\n",
    "data.loc['2020':'2021']\n",
    "\n",
    "data.iloc[2:3]\n",
    "data.iloc[:, 2:4]\n",
    "\n",
    "# VISUALIZING\n",
    "data['breed'].hist()\n",
    "data.plot(x='size', y='price', kind='bar')\n",
    "data.plot(x='size', y='price', kind='barh')\n",
    "data.plot(x='size', y='price', kind='line')\n",
    "data.plot(x='size', y='price', kind='scatter', title='Sample Title')\n",
    "plt.legend(['table1', 'table1'])\n",
    "plt.show()\n",
    "\n",
    "# MISSING VALUES\n",
    "data.isna().any() # any returns a true or false statement whether the value is null or not\n",
    "data.isna().sum() # counts number of null values\n",
    "\n",
    "data.dropna()\n",
    "data.fillna(0)\n",
    "\n",
    "# CSV\n",
    "pd.read_csv('file.csv')\n",
    "data.to_csv('data_new.csv')"
   ]
  },
  {
   "cell_type": "code",
   "execution_count": null,
   "metadata": {},
   "outputs": [],
   "source": [
    "# DATA MERGING\n",
    "data.merge(data1, on='id', how='left', suffixes=['_data1, _data2'])\n",
    "\n",
    "data.merge(data, on='id', how='left') \\\n",
    "    .merge(data1, on='id', suffixes=['_data1, _data2'])\n",
    "\n",
    "# JOINS\n",
    "data_tracks = data.merge(data, on='gid')\n",
    "semi_join = data[data['gid'].isin(data_tracks['gid'])]\n",
    "\n",
    "data_tracks1 = data.merge(data, on='gid', how='left', indicator=True)\n",
    "id_list = data_tracks1.loc[data_tracks['_merge'] == 'left_only', 'srid']\n",
    "data[data['srid'].isin(id_list)]\n",
    "\n",
    "# CONCAT\n",
    "pd.concat([data, data1], sort=True, ignore_index=True) \n",
    "pd.concat([data, data1], sort=True, join='inner', key=['data', 'data1'])\n",
    "\n",
    "pd.append([data, data1], sort=True)\n",
    "\n",
    "# INTEGRITY\n",
    "data.merge(data1, validate='one_to_one')\n",
    "pd.concat(verify_integrity=True)\n",
    "\n",
    "# ORDERED MERGE\n",
    "pd.merge_ordered(data, data1, fill_method='ffill')\n",
    "\n",
    "pd.merge_asof(data, data1, direction='forward')\n",
    "\n",
    "# QUERY\n",
    "data.query('nike >= 90 and disney < 45')\n",
    "\n",
    "# RESHAPING DATA\n",
    "## FROM WIDE TO TALL\n",
    "data.melt(id_vars=['financial', 'company'], value_vars=['2018', '2019'], var_name='rename', value_name='newName')\n",
    "\n",
    "# PIVOT TABLES\n",
    "## FROM TALL TO WIDE\n",
    "data.pivot_table(values='weight', index='color', columns='breed', fill_value=0)\n",
    "data.pivot_table(values='weight', index='color', columns='breed', fill_value=0, margins=True)"
   ]
  }
 ],
 "metadata": {
  "kernelspec": {
   "display_name": "Python 3.7.9 64-bit",
   "language": "python",
   "name": "python3"
  },
  "language_info": {
   "codemirror_mode": {
    "name": "ipython",
    "version": 3
   },
   "file_extension": ".py",
   "mimetype": "text/x-python",
   "name": "python",
   "nbconvert_exporter": "python",
   "pygments_lexer": "ipython3",
   "version": "3.7.9"
  },
  "orig_nbformat": 4,
  "vscode": {
   "interpreter": {
    "hash": "3c432dc0be6483395ec18fc32b86db2df70dae0fca119e60731380b2d969db41"
   }
  }
 },
 "nbformat": 4,
 "nbformat_minor": 2
}
